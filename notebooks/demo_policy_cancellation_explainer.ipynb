{
 "cells": [
  {
   "cell_type": "markdown",
   "metadata": {},
   "source": [
    "# 🧪 Demo – AI Policy Cancellation Explanation\n",
    "This notebook demonstrates how to use the `insurance_ai_rag` module to generate an explanation for early policy cancellation."
   ]
  },
  {
   "cell_type": "code",
   "execution_count": null,
   "metadata": {},
   "outputs": [],
   "source": [
    "from insurance_ai_rag.pipeline import run_pipeline\n",
    "\n",
    "explanation = run_pipeline("12345")\n",
    "print("Explanation:\n", explanation)"
   ]
  }
 ],
 "metadata": {
  "kernelspec": {
   "display_name": "Python 3",
   "language": "python",
   "name": "python3"
  },
  "language_info": {
   "name": "python",
   "version": ""
  }
 },
 "nbformat": 4,
 "nbformat_minor": 2
}