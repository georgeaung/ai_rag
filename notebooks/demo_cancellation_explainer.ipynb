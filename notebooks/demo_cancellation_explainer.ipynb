{
 "cells": [
  {
   "cell_type": "markdown",
   "id": "0786c8c2",
   "metadata": {},
   "source": [
    "# 🧪 AI Explainer Demo: Insurance Policy Cancellation"
   ]
  },
  {
   "cell_type": "markdown",
   "id": "c5f5af6c",
   "metadata": {},
   "source": [
    "This notebook demonstrates the full pipeline:\n",
    "\n",
    "- Retrieve policy data from Snowflake\n",
    "- Pull documents linked to the policy\n",
    "- Embed and retrieve using FAISS\n",
    "- Construct a prompt\n",
    "- Call LLM (simulated)\n",
    "- Return an explanation"
   ]
  },
  {
   "cell_type": "code",
   "execution_count": null,
   "id": "b02d6a57",
   "metadata": {},
   "outputs": [],
   "source": [
    "# Import main pipeline function\n",
    "from ai_rag.pipeline import run_pipeline"
   ]
  },
  {
   "cell_type": "code",
   "execution_count": null,
   "id": "e9d6efc0",
   "metadata": {},
   "outputs": [],
   "source": [
    "# Simulate policy ID input\n",
    "policy_id = \"12345\"\n"
   ]
  },
  {
   "cell_type": "code",
   "execution_count": null,
   "id": "5b692b27",
   "metadata": {},
   "outputs": [],
   "source": [
    "# Run pipeline and print explanation\n",
    "explanation = run_pipeline(policy_id)\n",
    "print(\"Generated Explanation:\\n\", explanation)"
   ]
  },
  {
   "cell_type": "markdown",
   "id": "14ea0786",
   "metadata": {},
   "source": [
    "----\n",
    "### 🔍 Explanation Breakdown:\n",
    "Let's explore each part of the result for transparency."
   ]
  },
  {
   "cell_type": "code",
   "execution_count": null,
   "id": "5481e294",
   "metadata": {},
   "outputs": [],
   "source": [
    "from ai_rag.snowflake_loader import get_policy_details\n",
    "policy_data = get_policy_details(policy_id)\n",
    "print(\"Structured Data from Snowflake:\")\n",
    "print(policy_data)"
   ]
  },
  {
   "cell_type": "code",
   "execution_count": null,
   "id": "40fe5f59",
   "metadata": {},
   "outputs": [],
   "source": [
    "from ai_rag.retriever import retrieve_documents\n",
    "docs = retrieve_documents(policy_id)\n",
    "print(\"\\nRetrieved Documents:\")\n",
    "for i, doc in enumerate(docs): print(f\"{i+1}.\", doc)"
   ]
  },
  {
   "cell_type": "code",
   "execution_count": null,
   "id": "88c65b2a",
   "metadata": {},
   "outputs": [],
   "source": [
    "from ai_rag.prompt import build_prompt\n",
    "prompt = build_prompt(policy_data, docs)\n",
    "print(\"\\nFinal Prompt to LLM:\\n\", prompt)"
   ]
  }
 ],
 "metadata": {},
 "nbformat": 4,
 "nbformat_minor": 5
}
