{
 "cells": [
  {
   "cell_type": "markdown",
   "id": "0786c8c2",
   "metadata": {},
   "source": "#  AI Explainer Demo: Insurance Policy Cancellation"
  },
  {
   "cell_type": "markdown",
   "id": "c5f5af6c",
   "metadata": {},
   "source": [
    "This notebook demonstrates the full pipeline:\n",
    "\n",
    "- Retrieve policy data from Snowflake\n",
    "- Pull documents linked to the policy\n",
    "- Embed and retrieve using FAISS\n",
    "- Construct a prompt\n",
    "- Call LLM (simulated)\n",
    "- Return an explanation"
   ]
  },
  {
   "cell_type": "code",
   "id": "b02d6a57",
   "metadata": {
    "ExecuteTime": {
     "end_time": "2025-06-20T13:22:51.974878Z",
     "start_time": "2025-06-20T13:22:12.827822Z"
    }
   },
   "source": [
    "# Import main pipeline function\n",
    "from ai_rag.pipeline import run_pipeline"
   ],
   "outputs": [
    {
     "name": "stderr",
     "output_type": "stream",
     "text": [
      "C:\\Users\\aungn\\PycharmProjects\\ai_rag\\.venv\\Lib\\site-packages\\tqdm\\auto.py:21: TqdmWarning: IProgress not found. Please update jupyter and ipywidgets. See https://ipywidgets.readthedocs.io/en/stable/user_install.html\n",
      "  from .autonotebook import tqdm as notebook_tqdm\n",
      "C:\\Users\\aungn\\PycharmProjects\\ai_rag\\.venv\\Lib\\site-packages\\huggingface_hub\\file_download.py:143: UserWarning: `huggingface_hub` cache-system uses symlinks by default to efficiently store duplicated files but your machine does not support them in C:\\Users\\aungn\\.cache\\huggingface\\hub\\models--sentence-transformers--all-MiniLM-L6-v2. Caching files will still work but in a degraded version that might require more space on your disk. This warning can be disabled by setting the `HF_HUB_DISABLE_SYMLINKS_WARNING` environment variable. For more details, see https://huggingface.co/docs/huggingface_hub/how-to-cache#limitations.\n",
      "To support symlinks on Windows, you either need to activate Developer Mode or to run Python as an administrator. In order to activate developer mode, see this article: https://docs.microsoft.com/en-us/windows/apps/get-started/enable-your-device-for-development\n",
      "  warnings.warn(message)\n",
      "Xet Storage is enabled for this repo, but the 'hf_xet' package is not installed. Falling back to regular HTTP download. For better performance, install the package with: `pip install huggingface_hub[hf_xet]` or `pip install hf_xet`\n"
     ]
    }
   ],
   "execution_count": 2
  },
  {
   "cell_type": "code",
   "id": "e9d6efc0",
   "metadata": {
    "ExecuteTime": {
     "end_time": "2025-06-20T13:26:08.806265Z",
     "start_time": "2025-06-20T13:26:08.802268Z"
    }
   },
   "source": [
    "# Simulate policy ID input\n",
    "policy_id = \"12345\"\n"
   ],
   "outputs": [],
   "execution_count": 3
  },
  {
   "cell_type": "code",
   "id": "5b692b27",
   "metadata": {
    "ExecuteTime": {
     "end_time": "2025-06-20T13:26:12.422685Z",
     "start_time": "2025-06-20T13:26:11.975777Z"
    }
   },
   "source": [
    "# Run pipeline and print explanation\n",
    "explanation = run_pipeline(policy_id)\n",
    "print(\"Generated Explanation:\\n\", explanation)"
   ],
   "outputs": [
    {
     "ename": "AttributeError",
     "evalue": "'NoneType' object has no attribute 'find'",
     "output_type": "error",
     "traceback": [
      "\u001B[31m---------------------------------------------------------------------------\u001B[39m",
      "\u001B[31mAttributeError\u001B[39m                            Traceback (most recent call last)",
      "\u001B[36mCell\u001B[39m\u001B[36m \u001B[39m\u001B[32mIn[4]\u001B[39m\u001B[32m, line 2\u001B[39m\n\u001B[32m      1\u001B[39m \u001B[38;5;66;03m# Run pipeline and print explanation\u001B[39;00m\n\u001B[32m----> \u001B[39m\u001B[32m2\u001B[39m explanation = \u001B[43mrun_pipeline\u001B[49m\u001B[43m(\u001B[49m\u001B[43mpolicy_id\u001B[49m\u001B[43m)\u001B[49m\n\u001B[32m      3\u001B[39m \u001B[38;5;28mprint\u001B[39m(\u001B[33m\"\u001B[39m\u001B[33mGenerated Explanation:\u001B[39m\u001B[38;5;130;01m\\n\u001B[39;00m\u001B[33m\"\u001B[39m, explanation)\n",
      "\u001B[36mFile \u001B[39m\u001B[32m~\\PycharmProjects\\ai_rag\\ai_rag\\pipeline.py:7\u001B[39m, in \u001B[36mrun_pipeline\u001B[39m\u001B[34m(policy_id)\u001B[39m\n\u001B[32m      6\u001B[39m \u001B[38;5;28;01mdef\u001B[39;00m\u001B[38;5;250m \u001B[39m\u001B[34mrun_pipeline\u001B[39m(policy_id):\n\u001B[32m----> \u001B[39m\u001B[32m7\u001B[39m     policy_data = \u001B[43mget_policy_details\u001B[49m\u001B[43m(\u001B[49m\u001B[43mpolicy_id\u001B[49m\u001B[43m)\u001B[49m\n\u001B[32m      8\u001B[39m     docs = retrieve_documents(policy_id)\n\u001B[32m      9\u001B[39m     prompt = build_prompt(policy_data, docs)\n",
      "\u001B[36mFile \u001B[39m\u001B[32m~\\PycharmProjects\\ai_rag\\ai_rag\\snowflake_loader.py:5\u001B[39m, in \u001B[36mget_policy_details\u001B[39m\u001B[34m(policy_id)\u001B[39m\n\u001B[32m      4\u001B[39m \u001B[38;5;28;01mdef\u001B[39;00m\u001B[38;5;250m \u001B[39m\u001B[34mget_policy_details\u001B[39m(policy_id):\n\u001B[32m----> \u001B[39m\u001B[32m5\u001B[39m     conn = \u001B[43msnowflake\u001B[49m\u001B[43m.\u001B[49m\u001B[43mconnector\u001B[49m\u001B[43m.\u001B[49m\u001B[43mconnect\u001B[49m\u001B[43m(\u001B[49m\n\u001B[32m      6\u001B[39m \u001B[43m        \u001B[49m\u001B[43muser\u001B[49m\u001B[43m=\u001B[49m\u001B[43mos\u001B[49m\u001B[43m.\u001B[49m\u001B[43mgetenv\u001B[49m\u001B[43m(\u001B[49m\u001B[33;43m\"\u001B[39;49m\u001B[33;43mSNOWFLAKE_USER\u001B[39;49m\u001B[33;43m\"\u001B[39;49m\u001B[43m)\u001B[49m\u001B[43m,\u001B[49m\n\u001B[32m      7\u001B[39m \u001B[43m        \u001B[49m\u001B[43mpassword\u001B[49m\u001B[43m=\u001B[49m\u001B[43mos\u001B[49m\u001B[43m.\u001B[49m\u001B[43mgetenv\u001B[49m\u001B[43m(\u001B[49m\u001B[33;43m\"\u001B[39;49m\u001B[33;43mSNOWFLAKE_PASSWORD\u001B[39;49m\u001B[33;43m\"\u001B[39;49m\u001B[43m)\u001B[49m\u001B[43m,\u001B[49m\n\u001B[32m      8\u001B[39m \u001B[43m        \u001B[49m\u001B[43maccount\u001B[49m\u001B[43m=\u001B[49m\u001B[43mos\u001B[49m\u001B[43m.\u001B[49m\u001B[43mgetenv\u001B[49m\u001B[43m(\u001B[49m\u001B[33;43m\"\u001B[39;49m\u001B[33;43mSNOWFLAKE_ACCOUNT\u001B[39;49m\u001B[33;43m\"\u001B[39;49m\u001B[43m)\u001B[49m\u001B[43m,\u001B[49m\n\u001B[32m      9\u001B[39m \u001B[43m        \u001B[49m\u001B[43mwarehouse\u001B[49m\u001B[43m=\u001B[49m\u001B[43mos\u001B[49m\u001B[43m.\u001B[49m\u001B[43mgetenv\u001B[49m\u001B[43m(\u001B[49m\u001B[33;43m\"\u001B[39;49m\u001B[33;43mSNOWFLAKE_WAREHOUSE\u001B[39;49m\u001B[33;43m\"\u001B[39;49m\u001B[43m)\u001B[49m\u001B[43m,\u001B[49m\n\u001B[32m     10\u001B[39m \u001B[43m        \u001B[49m\u001B[43mdatabase\u001B[49m\u001B[43m=\u001B[49m\u001B[43mos\u001B[49m\u001B[43m.\u001B[49m\u001B[43mgetenv\u001B[49m\u001B[43m(\u001B[49m\u001B[33;43m\"\u001B[39;49m\u001B[33;43mSNOWFLAKE_DATABASE\u001B[39;49m\u001B[33;43m\"\u001B[39;49m\u001B[43m)\u001B[49m\u001B[43m,\u001B[49m\n\u001B[32m     11\u001B[39m \u001B[43m        \u001B[49m\u001B[43mschema\u001B[49m\u001B[43m=\u001B[49m\u001B[43mos\u001B[49m\u001B[43m.\u001B[49m\u001B[43mgetenv\u001B[49m\u001B[43m(\u001B[49m\u001B[33;43m\"\u001B[39;49m\u001B[33;43mSNOWFLAKE_SCHEMA\u001B[39;49m\u001B[33;43m\"\u001B[39;49m\u001B[43m)\u001B[49m\n\u001B[32m     12\u001B[39m \u001B[43m    \u001B[49m\u001B[43m)\u001B[49m\n\u001B[32m     13\u001B[39m     cursor = conn.cursor()\n\u001B[32m     14\u001B[39m     cursor.execute(\u001B[33m\"\"\"\u001B[39m\n\u001B[32m     15\u001B[39m \u001B[33m        SELECT POLICY_ID, CANCEL_REASON_CODE, PAYMENT_SUMMARY\u001B[39m\n\u001B[32m     16\u001B[39m \u001B[33m        FROM INSURANCE_ANALYTICS.POLICY_CANCELLATION_SUMMARY\u001B[39m\n\u001B[32m     17\u001B[39m \u001B[33m        WHERE POLICY_ID = \u001B[39m\u001B[38;5;132;01m%s\u001B[39;00m\n\u001B[32m     18\u001B[39m \u001B[33m    \u001B[39m\u001B[33m\"\"\"\u001B[39m, (policy_id,))\n",
      "\u001B[36mFile \u001B[39m\u001B[32m~\\PycharmProjects\\ai_rag\\.venv\\Lib\\site-packages\\snowflake\\connector\\__init__.py:54\u001B[39m, in \u001B[36mConnect\u001B[39m\u001B[34m(**kwargs)\u001B[39m\n\u001B[32m     52\u001B[39m \u001B[38;5;129m@wraps\u001B[39m(SnowflakeConnection.\u001B[34m__init__\u001B[39m)\n\u001B[32m     53\u001B[39m \u001B[38;5;28;01mdef\u001B[39;00m\u001B[38;5;250m \u001B[39m\u001B[34mConnect\u001B[39m(**kwargs) -> SnowflakeConnection:\n\u001B[32m---> \u001B[39m\u001B[32m54\u001B[39m     \u001B[38;5;28;01mreturn\u001B[39;00m \u001B[43mSnowflakeConnection\u001B[49m\u001B[43m(\u001B[49m\u001B[43m*\u001B[49m\u001B[43m*\u001B[49m\u001B[43mkwargs\u001B[49m\u001B[43m)\u001B[49m\n",
      "\u001B[36mFile \u001B[39m\u001B[32m~\\PycharmProjects\\ai_rag\\.venv\\Lib\\site-packages\\snowflake\\connector\\connection.py:548\u001B[39m, in \u001B[36mSnowflakeConnection.__init__\u001B[39m\u001B[34m(self, connection_name, connections_file_path, **kwargs)\u001B[39m\n\u001B[32m    546\u001B[39m     kwargs = _get_default_connection_params()\n\u001B[32m    547\u001B[39m \u001B[38;5;28mself\u001B[39m.__set_error_attributes()\n\u001B[32m--> \u001B[39m\u001B[32m548\u001B[39m \u001B[38;5;28;43mself\u001B[39;49m\u001B[43m.\u001B[49m\u001B[43mconnect\u001B[49m\u001B[43m(\u001B[49m\u001B[43m*\u001B[49m\u001B[43m*\u001B[49m\u001B[43mkwargs\u001B[49m\u001B[43m)\u001B[49m\n\u001B[32m    549\u001B[39m \u001B[38;5;28mself\u001B[39m._telemetry = TelemetryClient(\u001B[38;5;28mself\u001B[39m._rest)\n\u001B[32m    550\u001B[39m \u001B[38;5;28mself\u001B[39m.expired = \u001B[38;5;28;01mFalse\u001B[39;00m\n",
      "\u001B[36mFile \u001B[39m\u001B[32m~\\PycharmProjects\\ai_rag\\.venv\\Lib\\site-packages\\snowflake\\connector\\connection.py:862\u001B[39m, in \u001B[36mSnowflakeConnection.connect\u001B[39m\u001B[34m(self, **kwargs)\u001B[39m\n\u001B[32m    860\u001B[39m logger.debug(\u001B[33m\"\u001B[39m\u001B[33mconnect\u001B[39m\u001B[33m\"\u001B[39m)\n\u001B[32m    861\u001B[39m \u001B[38;5;28;01mif\u001B[39;00m \u001B[38;5;28mlen\u001B[39m(kwargs) > \u001B[32m0\u001B[39m:\n\u001B[32m--> \u001B[39m\u001B[32m862\u001B[39m     \u001B[38;5;28;43mself\u001B[39;49m\u001B[43m.\u001B[49m\u001B[43m__config\u001B[49m\u001B[43m(\u001B[49m\u001B[43m*\u001B[49m\u001B[43m*\u001B[49m\u001B[43mkwargs\u001B[49m\u001B[43m)\u001B[49m\n\u001B[32m    864\u001B[39m \u001B[38;5;28;01mif\u001B[39;00m \u001B[38;5;28mself\u001B[39m.enable_connection_diag:\n\u001B[32m    865\u001B[39m     exceptions_dict = {}\n",
      "\u001B[36mFile \u001B[39m\u001B[32m~\\PycharmProjects\\ai_rag\\.venv\\Lib\\site-packages\\snowflake\\connector\\connection.py:1384\u001B[39m, in \u001B[36mSnowflakeConnection.__config\u001B[39m\u001B[34m(self, **kwargs)\u001B[39m\n\u001B[32m   1382\u001B[39m \u001B[38;5;28;01mif\u001B[39;00m \u001B[33m\"\u001B[39m\u001B[33maccount\u001B[39m\u001B[33m\"\u001B[39m \u001B[38;5;129;01min\u001B[39;00m kwargs:\n\u001B[32m   1383\u001B[39m     \u001B[38;5;28;01mif\u001B[39;00m \u001B[33m\"\u001B[39m\u001B[33mhost\u001B[39m\u001B[33m\"\u001B[39m \u001B[38;5;129;01mnot\u001B[39;00m \u001B[38;5;129;01min\u001B[39;00m kwargs:\n\u001B[32m-> \u001B[39m\u001B[32m1384\u001B[39m         \u001B[38;5;28mself\u001B[39m._host = \u001B[43mconstruct_hostname\u001B[49m\u001B[43m(\u001B[49m\u001B[43mkwargs\u001B[49m\u001B[43m.\u001B[49m\u001B[43mget\u001B[49m\u001B[43m(\u001B[49m\u001B[33;43m\"\u001B[39;49m\u001B[33;43mregion\u001B[39;49m\u001B[33;43m\"\u001B[39;49m\u001B[43m)\u001B[49m\u001B[43m,\u001B[49m\u001B[43m \u001B[49m\u001B[38;5;28;43mself\u001B[39;49m\u001B[43m.\u001B[49m\u001B[43m_account\u001B[49m\u001B[43m)\u001B[49m\n\u001B[32m   1386\u001B[39m \u001B[38;5;28;01mif\u001B[39;00m \u001B[33m\"\u001B[39m\u001B[33munsafe_file_write\u001B[39m\u001B[33m\"\u001B[39m \u001B[38;5;129;01min\u001B[39;00m kwargs:\n\u001B[32m   1387\u001B[39m     \u001B[38;5;28mself\u001B[39m._unsafe_file_write = kwargs[\u001B[33m\"\u001B[39m\u001B[33munsafe_file_write\u001B[39m\u001B[33m\"\u001B[39m]\n",
      "\u001B[36mFile \u001B[39m\u001B[32m~\\PycharmProjects\\ai_rag\\.venv\\Lib\\site-packages\\snowflake\\connector\\util_text.py:251\u001B[39m, in \u001B[36mconstruct_hostname\u001B[39m\u001B[34m(region, account)\u001B[39m\n\u001B[32m    249\u001B[39m \u001B[38;5;28;01melse\u001B[39;00m:\n\u001B[32m    250\u001B[39m     top_level_domain = \u001B[33m\"\u001B[39m\u001B[33mcom\u001B[39m\u001B[33m\"\u001B[39m\n\u001B[32m--> \u001B[39m\u001B[32m251\u001B[39m     \u001B[38;5;28;01mif\u001B[39;00m \u001B[43maccount\u001B[49m\u001B[43m.\u001B[49m\u001B[43mfind\u001B[49m(\u001B[33m\"\u001B[39m\u001B[33m.\u001B[39m\u001B[33m\"\u001B[39m) > \u001B[32m0\u001B[39m \u001B[38;5;129;01mand\u001B[39;00m _is_china_region(account.split(\u001B[33m\"\u001B[39m\u001B[33m.\u001B[39m\u001B[33m\"\u001B[39m)[\u001B[32m1\u001B[39m]):\n\u001B[32m    252\u001B[39m         top_level_domain = \u001B[33m\"\u001B[39m\u001B[33mcn\u001B[39m\u001B[33m\"\u001B[39m\n\u001B[32m    253\u001B[39m     host = \u001B[33mf\u001B[39m\u001B[33m\"\u001B[39m\u001B[38;5;132;01m{\u001B[39;00maccount\u001B[38;5;132;01m}\u001B[39;00m\u001B[33m.snowflakecomputing.\u001B[39m\u001B[38;5;132;01m{\u001B[39;00mtop_level_domain\u001B[38;5;132;01m}\u001B[39;00m\u001B[33m\"\u001B[39m\n",
      "\u001B[31mAttributeError\u001B[39m: 'NoneType' object has no attribute 'find'"
     ]
    }
   ],
   "execution_count": 4
  },
  {
   "cell_type": "markdown",
   "id": "14ea0786",
   "metadata": {},
   "source": [
    "----\n",
    "### Explanation Breakdown:\n",
    "Let's explore each part of the result for transparency."
   ]
  },
  {
   "cell_type": "code",
   "execution_count": null,
   "id": "5481e294",
   "metadata": {},
   "outputs": [],
   "source": [
    "from ai_rag.snowflake_loader import get_policy_details\n",
    "policy_data = get_policy_details(policy_id)\n",
    "print(\"Structured Data from Snowflake:\")\n",
    "print(policy_data)"
   ]
  },
  {
   "cell_type": "code",
   "execution_count": null,
   "id": "40fe5f59",
   "metadata": {},
   "outputs": [],
   "source": [
    "from ai_rag.retriever import retrieve_documents\n",
    "docs = retrieve_documents(policy_id)\n",
    "print(\"\\nRetrieved Documents:\")\n",
    "for i, doc in enumerate(docs): print(f\"{i+1}.\", doc)"
   ]
  },
  {
   "cell_type": "code",
   "execution_count": null,
   "id": "88c65b2a",
   "metadata": {},
   "outputs": [],
   "source": [
    "from ai_rag.prompt import build_prompt\n",
    "prompt = build_prompt(policy_data, docs)\n",
    "print(\"\\nFinal Prompt to LLM:\\n\", prompt)"
   ]
  }
 ],
 "metadata": {},
 "nbformat": 4,
 "nbformat_minor": 5
}
